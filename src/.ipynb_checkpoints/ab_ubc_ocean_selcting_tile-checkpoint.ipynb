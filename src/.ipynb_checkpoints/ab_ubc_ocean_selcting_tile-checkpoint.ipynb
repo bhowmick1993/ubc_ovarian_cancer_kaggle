{
 "cells": [
  {
   "cell_type": "code",
   "execution_count": 6,
   "metadata": {},
   "outputs": [],
   "source": [
    "import cv2\n",
    "import numpy as np\n",
    "import os\n",
    "import tqdm"
   ]
  },
  {
   "cell_type": "code",
   "execution_count": 7,
   "metadata": {},
   "outputs": [
    {
     "name": "stderr",
     "output_type": "stream",
     "text": [
      "  0%|          | 0/513 [00:00<?, ?it/s]"
     ]
    },
    {
     "name": "stderr",
     "output_type": "stream",
     "text": [
      "100%|██████████| 513/513 [03:50<00:00,  2.23it/s]\n"
     ]
    }
   ],
   "source": [
    "def is_completely_black(image_path):\n",
    "    image = cv2.imread(image_path)\n",
    "    if image is None:\n",
    "        return False  # Unable to read image\n",
    "\n",
    "    # Convert the image to grayscale\n",
    "    gray_image = cv2.cvtColor(image, cv2.COLOR_BGR2GRAY)\n",
    "\n",
    "    # Check if all pixel values are zero (black)\n",
    "    return not cv2.countNonZero(gray_image)\n",
    "\n",
    "def delete_black_images(folder_path):\n",
    "    for filename in os.listdir(folder_path):\n",
    "        image_path = os.path.join(folder_path, filename)\n",
    "\n",
    "        if is_completely_black(image_path):\n",
    "            os.remove(image_path)\n",
    "            #print(f\"Deleted: {filename}\")\n",
    "\n",
    "if __name__ == \"__main__\":\n",
    "\n",
    "    folder_path = \"D:\\\\own_projects\\\\Ovarian_cancer\\\\train_tiled_thumbnail_images\"\n",
    "\n",
    "    folders_list = os.listdir(folder_path)\n",
    "\n",
    "    for folder in tqdm.tqdm(folders_list):\n",
    "        \n",
    "        delete_black_images(os.path.join(folder_path, folder))\n",
    "        \n"
   ]
  },
  {
   "cell_type": "code",
   "execution_count": null,
   "metadata": {},
   "outputs": [],
   "source": []
  }
 ],
 "metadata": {
  "kernelspec": {
   "display_name": "base",
   "language": "python",
   "name": "python3"
  },
  "language_info": {
   "codemirror_mode": {
    "name": "ipython",
    "version": 3
   },
   "file_extension": ".py",
   "mimetype": "text/x-python",
   "name": "python",
   "nbconvert_exporter": "python",
   "pygments_lexer": "ipython3",
   "version": "3.11.5"
  }
 },
 "nbformat": 4,
 "nbformat_minor": 2
}
