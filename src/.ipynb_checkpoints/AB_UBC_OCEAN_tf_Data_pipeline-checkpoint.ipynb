{
 "cells": [
  {
   "cell_type": "code",
   "execution_count": 13,
   "metadata": {},
   "outputs": [],
   "source": [
    "# This Python 3 environment comes with many helpful analytics libraries installed\n",
    "# It is defined by the kaggle/python Docker image: https://github.com/kaggle/docker-python\n",
    "# For example, here's several helpful packages to load\n",
    "\n",
    "import numpy as np # linear algebra\n",
    "import pandas as pd # data processing, CSV file I/O (e.g. pd.read_csv)\n",
    "\n",
    "# Input data files are available in the read-only \"../input/\" directory\n",
    "# For example, running this (by clicking run or pressing Shift+Enter) will list all files under the input directory\n",
    "\n",
    "import os\n",
    "import tqdm\n",
    "import tensorflow as tf\n",
    "from sklearn.model_selection import train_test_split "
   ]
  },
  {
   "cell_type": "code",
   "execution_count": 2,
   "metadata": {},
   "outputs": [
    {
     "name": "stdout",
     "output_type": "stream",
     "text": [
      "   image_id label  image_width  image_height  is_tma\n",
      "0         4  HGSC        23785         20008   False\n",
      "1        66  LGSC        48871         48195   False\n",
      "2        91  HGSC         3388          3388    True\n",
      "3       281  LGSC        42309         15545   False\n",
      "4       286    EC        37204         30020   False\n"
     ]
    }
   ],
   "source": [
    "train_csv = pd.read_csv(\"..\\\\train.csv\") \n",
    "print(train_csv.head())"
   ]
  },
  {
   "cell_type": "code",
   "execution_count": 3,
   "metadata": {},
   "outputs": [],
   "source": [
    "modified_train_csv = train_csv.copy()"
   ]
  },
  {
   "cell_type": "code",
   "execution_count": 4,
   "metadata": {},
   "outputs": [],
   "source": [
    "train_path = \"..\\\\train_images\"\n",
    "train_thumbnail_path = \"..\\\\train_thumbnails\""
   ]
  },
  {
   "cell_type": "code",
   "execution_count": 5,
   "metadata": {},
   "outputs": [],
   "source": [
    "new_column = []\n",
    "for i in range(len(train_csv)):\n",
    "    if (train_csv[\"is_tma\"].iloc[i] == False):\n",
    "        new_column.append(os.path.join(train_thumbnail_path, str(train_csv[\"image_id\"].iloc[i]) + \"_thumbnail.png\"))\n",
    "    else:\n",
    "        new_column.append(os.path.join(train_thumbnail_path, str(train_csv[\"image_id\"].iloc[i]) + \".png\"))"
   ]
  },
  {
   "cell_type": "code",
   "execution_count": 6,
   "metadata": {},
   "outputs": [
    {
     "data": {
      "text/html": [
       "<div>\n",
       "<style scoped>\n",
       "    .dataframe tbody tr th:only-of-type {\n",
       "        vertical-align: middle;\n",
       "    }\n",
       "\n",
       "    .dataframe tbody tr th {\n",
       "        vertical-align: top;\n",
       "    }\n",
       "\n",
       "    .dataframe thead th {\n",
       "        text-align: right;\n",
       "    }\n",
       "</style>\n",
       "<table border=\"1\" class=\"dataframe\">\n",
       "  <thead>\n",
       "    <tr style=\"text-align: right;\">\n",
       "      <th></th>\n",
       "      <th>image_id</th>\n",
       "      <th>label</th>\n",
       "      <th>image_width</th>\n",
       "      <th>image_height</th>\n",
       "      <th>is_tma</th>\n",
       "      <th>image_path</th>\n",
       "    </tr>\n",
       "  </thead>\n",
       "  <tbody>\n",
       "    <tr>\n",
       "      <th>0</th>\n",
       "      <td>4</td>\n",
       "      <td>HGSC</td>\n",
       "      <td>23785</td>\n",
       "      <td>20008</td>\n",
       "      <td>False</td>\n",
       "      <td>..\\train_thumbnails\\4_thumbnail.png</td>\n",
       "    </tr>\n",
       "    <tr>\n",
       "      <th>1</th>\n",
       "      <td>66</td>\n",
       "      <td>LGSC</td>\n",
       "      <td>48871</td>\n",
       "      <td>48195</td>\n",
       "      <td>False</td>\n",
       "      <td>..\\train_thumbnails\\66_thumbnail.png</td>\n",
       "    </tr>\n",
       "    <tr>\n",
       "      <th>2</th>\n",
       "      <td>91</td>\n",
       "      <td>HGSC</td>\n",
       "      <td>3388</td>\n",
       "      <td>3388</td>\n",
       "      <td>True</td>\n",
       "      <td>..\\train_thumbnails\\91.png</td>\n",
       "    </tr>\n",
       "    <tr>\n",
       "      <th>3</th>\n",
       "      <td>281</td>\n",
       "      <td>LGSC</td>\n",
       "      <td>42309</td>\n",
       "      <td>15545</td>\n",
       "      <td>False</td>\n",
       "      <td>..\\train_thumbnails\\281_thumbnail.png</td>\n",
       "    </tr>\n",
       "    <tr>\n",
       "      <th>4</th>\n",
       "      <td>286</td>\n",
       "      <td>EC</td>\n",
       "      <td>37204</td>\n",
       "      <td>30020</td>\n",
       "      <td>False</td>\n",
       "      <td>..\\train_thumbnails\\286_thumbnail.png</td>\n",
       "    </tr>\n",
       "  </tbody>\n",
       "</table>\n",
       "</div>"
      ],
      "text/plain": [
       "   image_id label  image_width  image_height  is_tma  \\\n",
       "0         4  HGSC        23785         20008   False   \n",
       "1        66  LGSC        48871         48195   False   \n",
       "2        91  HGSC         3388          3388    True   \n",
       "3       281  LGSC        42309         15545   False   \n",
       "4       286    EC        37204         30020   False   \n",
       "\n",
       "                              image_path  \n",
       "0    ..\\train_thumbnails\\4_thumbnail.png  \n",
       "1   ..\\train_thumbnails\\66_thumbnail.png  \n",
       "2             ..\\train_thumbnails\\91.png  \n",
       "3  ..\\train_thumbnails\\281_thumbnail.png  \n",
       "4  ..\\train_thumbnails\\286_thumbnail.png  "
      ]
     },
     "execution_count": 6,
     "metadata": {},
     "output_type": "execute_result"
    }
   ],
   "source": [
    "modified_train_csv[\"image_path\"] = new_column\n",
    "modified_train_csv.head()"
   ]
  },
  {
   "cell_type": "code",
   "execution_count": 7,
   "metadata": {},
   "outputs": [],
   "source": [
    "# Create a test data out of this modified train csv\n",
    "def getTheSplitData(csv):\n",
    "    trainDf, testDf = train_test_split(csv, test_size=0.2, random_state=42, shuffle=True)\n",
    "    return trainDf, testDf        \n",
    "\n",
    "trainDf, validDf = getTheSplitData(modified_train_csv)"
   ]
  },
  {
   "cell_type": "code",
   "execution_count": 20,
   "metadata": {},
   "outputs": [
    {
     "name": "stderr",
     "output_type": "stream",
     "text": [
      "100%|█████████████████████████████████████████████████████████████████████████████████████████████████████████████████████████████████████████████████████████████████████████████████████████████| 430/430 [00:00<00:00, 636.83it/s]\n"
     ]
    }
   ],
   "source": [
    "import tqdm\n",
    "tiled_images_folder_path = \"..\\\\train_tiled_thumbnail_images\"\n",
    "newDataFrame = pd.DataFrame(columns = ['image_id', 'label', 'image_path'])\n",
    "image_id = []\n",
    "label = []\n",
    "image_path = []\n",
    "for i in tqdm.tqdm(range(len(trainDf))):\n",
    "    if(trainDf['is_tma'].iloc[i] == False):\n",
    "        num_tiled_files  = os.listdir(os.path.join(tiled_images_folder_path, str(trainDf[\"image_id\"].iloc[i])+\"_thumbnail\"))\n",
    "        \n",
    "        for j in range(len(num_tiled_files)): \n",
    "            image_id.append(trainDf[\"image_id\"].iloc[i])   \n",
    "            label.append(trainDf[\"label\"].iloc[i])\n",
    "            image_path.append(os.path.join(tiled_images_folder_path, str(trainDf[\"image_id\"].iloc[i])+\"_thumbnail\", num_tiled_files[j]))\n",
    "    \n",
    "    \n",
    "    \n",
    "newDataFrame['image_id'] = image_id\n",
    "newDataFrame[\"label\"] = label\n",
    "newDataFrame[\"image_path\"] = image_path"
   ]
  },
  {
   "cell_type": "code",
   "execution_count": 24,
   "metadata": {},
   "outputs": [
    {
     "data": {
      "text/html": [
       "<div>\n",
       "<style scoped>\n",
       "    .dataframe tbody tr th:only-of-type {\n",
       "        vertical-align: middle;\n",
       "    }\n",
       "\n",
       "    .dataframe tbody tr th {\n",
       "        vertical-align: top;\n",
       "    }\n",
       "\n",
       "    .dataframe thead th {\n",
       "        text-align: right;\n",
       "    }\n",
       "</style>\n",
       "<table border=\"1\" class=\"dataframe\">\n",
       "  <thead>\n",
       "    <tr style=\"text-align: right;\">\n",
       "      <th></th>\n",
       "      <th>image_id</th>\n",
       "      <th>label</th>\n",
       "      <th>image_path</th>\n",
       "    </tr>\n",
       "  </thead>\n",
       "  <tbody>\n",
       "    <tr>\n",
       "      <th>0</th>\n",
       "      <td>45990</td>\n",
       "      <td>CC</td>\n",
       "      <td>..\\train_tiled_thumbnail_images\\45990_thumbnai...</td>\n",
       "    </tr>\n",
       "    <tr>\n",
       "      <th>1</th>\n",
       "      <td>45990</td>\n",
       "      <td>CC</td>\n",
       "      <td>..\\train_tiled_thumbnail_images\\45990_thumbnai...</td>\n",
       "    </tr>\n",
       "    <tr>\n",
       "      <th>2</th>\n",
       "      <td>45990</td>\n",
       "      <td>CC</td>\n",
       "      <td>..\\train_tiled_thumbnail_images\\45990_thumbnai...</td>\n",
       "    </tr>\n",
       "    <tr>\n",
       "      <th>3</th>\n",
       "      <td>45990</td>\n",
       "      <td>CC</td>\n",
       "      <td>..\\train_tiled_thumbnail_images\\45990_thumbnai...</td>\n",
       "    </tr>\n",
       "    <tr>\n",
       "      <th>4</th>\n",
       "      <td>45990</td>\n",
       "      <td>CC</td>\n",
       "      <td>..\\train_tiled_thumbnail_images\\45990_thumbnai...</td>\n",
       "    </tr>\n",
       "  </tbody>\n",
       "</table>\n",
       "</div>"
      ],
      "text/plain": [
       "   image_id label                                         image_path\n",
       "0     45990    CC  ..\\train_tiled_thumbnail_images\\45990_thumbnai...\n",
       "1     45990    CC  ..\\train_tiled_thumbnail_images\\45990_thumbnai...\n",
       "2     45990    CC  ..\\train_tiled_thumbnail_images\\45990_thumbnai...\n",
       "3     45990    CC  ..\\train_tiled_thumbnail_images\\45990_thumbnai...\n",
       "4     45990    CC  ..\\train_tiled_thumbnail_images\\45990_thumbnai..."
      ]
     },
     "execution_count": 24,
     "metadata": {},
     "output_type": "execute_result"
    }
   ],
   "source": [
    "newDataFrame.head()"
   ]
  },
  {
   "cell_type": "code",
   "execution_count": 21,
   "metadata": {},
   "outputs": [
    {
     "data": {
      "text/html": [
       "<div>\n",
       "<style scoped>\n",
       "    .dataframe tbody tr th:only-of-type {\n",
       "        vertical-align: middle;\n",
       "    }\n",
       "\n",
       "    .dataframe tbody tr th {\n",
       "        vertical-align: top;\n",
       "    }\n",
       "\n",
       "    .dataframe thead th {\n",
       "        text-align: right;\n",
       "    }\n",
       "</style>\n",
       "<table border=\"1\" class=\"dataframe\">\n",
       "  <thead>\n",
       "    <tr style=\"text-align: right;\">\n",
       "      <th></th>\n",
       "      <th>label_CC</th>\n",
       "      <th>label_EC</th>\n",
       "      <th>label_HGSC</th>\n",
       "      <th>label_LGSC</th>\n",
       "      <th>label_MC</th>\n",
       "    </tr>\n",
       "  </thead>\n",
       "  <tbody>\n",
       "    <tr>\n",
       "      <th>0</th>\n",
       "      <td>1</td>\n",
       "      <td>0</td>\n",
       "      <td>0</td>\n",
       "      <td>0</td>\n",
       "      <td>0</td>\n",
       "    </tr>\n",
       "    <tr>\n",
       "      <th>1</th>\n",
       "      <td>1</td>\n",
       "      <td>0</td>\n",
       "      <td>0</td>\n",
       "      <td>0</td>\n",
       "      <td>0</td>\n",
       "    </tr>\n",
       "    <tr>\n",
       "      <th>2</th>\n",
       "      <td>1</td>\n",
       "      <td>0</td>\n",
       "      <td>0</td>\n",
       "      <td>0</td>\n",
       "      <td>0</td>\n",
       "    </tr>\n",
       "    <tr>\n",
       "      <th>3</th>\n",
       "      <td>1</td>\n",
       "      <td>0</td>\n",
       "      <td>0</td>\n",
       "      <td>0</td>\n",
       "      <td>0</td>\n",
       "    </tr>\n",
       "    <tr>\n",
       "      <th>4</th>\n",
       "      <td>1</td>\n",
       "      <td>0</td>\n",
       "      <td>0</td>\n",
       "      <td>0</td>\n",
       "      <td>0</td>\n",
       "    </tr>\n",
       "  </tbody>\n",
       "</table>\n",
       "</div>"
      ],
      "text/plain": [
       "   label_CC  label_EC  label_HGSC  label_LGSC  label_MC\n",
       "0         1         0           0           0         0\n",
       "1         1         0           0           0         0\n",
       "2         1         0           0           0         0\n",
       "3         1         0           0           0         0\n",
       "4         1         0           0           0         0"
      ]
     },
     "execution_count": 21,
     "metadata": {},
     "output_type": "execute_result"
    }
   ],
   "source": [
    "df_one_hot = pd.get_dummies(newDataFrame[\"label\"], prefix=\"label\").astype(int)\n",
    "df_one_hot.head()"
   ]
  },
  {
   "cell_type": "code",
   "execution_count": 22,
   "metadata": {},
   "outputs": [
    {
     "data": {
      "text/html": [
       "<div>\n",
       "<style scoped>\n",
       "    .dataframe tbody tr th:only-of-type {\n",
       "        vertical-align: middle;\n",
       "    }\n",
       "\n",
       "    .dataframe tbody tr th {\n",
       "        vertical-align: top;\n",
       "    }\n",
       "\n",
       "    .dataframe thead th {\n",
       "        text-align: right;\n",
       "    }\n",
       "</style>\n",
       "<table border=\"1\" class=\"dataframe\">\n",
       "  <thead>\n",
       "    <tr style=\"text-align: right;\">\n",
       "      <th></th>\n",
       "      <th>image_id</th>\n",
       "      <th>label_CC</th>\n",
       "      <th>label_EC</th>\n",
       "      <th>label_HGSC</th>\n",
       "      <th>label_LGSC</th>\n",
       "      <th>label_MC</th>\n",
       "    </tr>\n",
       "  </thead>\n",
       "  <tbody>\n",
       "    <tr>\n",
       "      <th>0</th>\n",
       "      <td>45990</td>\n",
       "      <td>1</td>\n",
       "      <td>0</td>\n",
       "      <td>0</td>\n",
       "      <td>0</td>\n",
       "      <td>0</td>\n",
       "    </tr>\n",
       "    <tr>\n",
       "      <th>1</th>\n",
       "      <td>45990</td>\n",
       "      <td>1</td>\n",
       "      <td>0</td>\n",
       "      <td>0</td>\n",
       "      <td>0</td>\n",
       "      <td>0</td>\n",
       "    </tr>\n",
       "    <tr>\n",
       "      <th>2</th>\n",
       "      <td>45990</td>\n",
       "      <td>1</td>\n",
       "      <td>0</td>\n",
       "      <td>0</td>\n",
       "      <td>0</td>\n",
       "      <td>0</td>\n",
       "    </tr>\n",
       "    <tr>\n",
       "      <th>3</th>\n",
       "      <td>45990</td>\n",
       "      <td>1</td>\n",
       "      <td>0</td>\n",
       "      <td>0</td>\n",
       "      <td>0</td>\n",
       "      <td>0</td>\n",
       "    </tr>\n",
       "    <tr>\n",
       "      <th>4</th>\n",
       "      <td>45990</td>\n",
       "      <td>1</td>\n",
       "      <td>0</td>\n",
       "      <td>0</td>\n",
       "      <td>0</td>\n",
       "      <td>0</td>\n",
       "    </tr>\n",
       "  </tbody>\n",
       "</table>\n",
       "</div>"
      ],
      "text/plain": [
       "   image_id  label_CC  label_EC  label_HGSC  label_LGSC  label_MC\n",
       "0     45990         1         0           0           0         0\n",
       "1     45990         1         0           0           0         0\n",
       "2     45990         1         0           0           0         0\n",
       "3     45990         1         0           0           0         0\n",
       "4     45990         1         0           0           0         0"
      ]
     },
     "execution_count": 22,
     "metadata": {},
     "output_type": "execute_result"
    }
   ],
   "source": [
    "train_df = pd.concat([newDataFrame[\"image_id\"], df_one_hot], axis=1)\n",
    "train_df.head()"
   ]
  },
  {
   "cell_type": "code",
   "execution_count": 25,
   "metadata": {},
   "outputs": [
    {
     "data": {
      "text/html": [
       "<div>\n",
       "<style scoped>\n",
       "    .dataframe tbody tr th:only-of-type {\n",
       "        vertical-align: middle;\n",
       "    }\n",
       "\n",
       "    .dataframe tbody tr th {\n",
       "        vertical-align: top;\n",
       "    }\n",
       "\n",
       "    .dataframe thead th {\n",
       "        text-align: right;\n",
       "    }\n",
       "</style>\n",
       "<table border=\"1\" class=\"dataframe\">\n",
       "  <thead>\n",
       "    <tr style=\"text-align: right;\">\n",
       "      <th></th>\n",
       "      <th>image_id</th>\n",
       "      <th>label_CC</th>\n",
       "      <th>label_EC</th>\n",
       "      <th>label_HGSC</th>\n",
       "      <th>label_LGSC</th>\n",
       "      <th>label_MC</th>\n",
       "      <th>image_thumbnail_path</th>\n",
       "    </tr>\n",
       "  </thead>\n",
       "  <tbody>\n",
       "    <tr>\n",
       "      <th>0</th>\n",
       "      <td>45990</td>\n",
       "      <td>1</td>\n",
       "      <td>0</td>\n",
       "      <td>0</td>\n",
       "      <td>0</td>\n",
       "      <td>0</td>\n",
       "      <td>..\\train_tiled_thumbnail_images\\45990_thumbnai...</td>\n",
       "    </tr>\n",
       "    <tr>\n",
       "      <th>1</th>\n",
       "      <td>45990</td>\n",
       "      <td>1</td>\n",
       "      <td>0</td>\n",
       "      <td>0</td>\n",
       "      <td>0</td>\n",
       "      <td>0</td>\n",
       "      <td>..\\train_tiled_thumbnail_images\\45990_thumbnai...</td>\n",
       "    </tr>\n",
       "    <tr>\n",
       "      <th>2</th>\n",
       "      <td>45990</td>\n",
       "      <td>1</td>\n",
       "      <td>0</td>\n",
       "      <td>0</td>\n",
       "      <td>0</td>\n",
       "      <td>0</td>\n",
       "      <td>..\\train_tiled_thumbnail_images\\45990_thumbnai...</td>\n",
       "    </tr>\n",
       "    <tr>\n",
       "      <th>3</th>\n",
       "      <td>45990</td>\n",
       "      <td>1</td>\n",
       "      <td>0</td>\n",
       "      <td>0</td>\n",
       "      <td>0</td>\n",
       "      <td>0</td>\n",
       "      <td>..\\train_tiled_thumbnail_images\\45990_thumbnai...</td>\n",
       "    </tr>\n",
       "    <tr>\n",
       "      <th>4</th>\n",
       "      <td>45990</td>\n",
       "      <td>1</td>\n",
       "      <td>0</td>\n",
       "      <td>0</td>\n",
       "      <td>0</td>\n",
       "      <td>0</td>\n",
       "      <td>..\\train_tiled_thumbnail_images\\45990_thumbnai...</td>\n",
       "    </tr>\n",
       "  </tbody>\n",
       "</table>\n",
       "</div>"
      ],
      "text/plain": [
       "   image_id  label_CC  label_EC  label_HGSC  label_LGSC  label_MC  \\\n",
       "0     45990         1         0           0           0         0   \n",
       "1     45990         1         0           0           0         0   \n",
       "2     45990         1         0           0           0         0   \n",
       "3     45990         1         0           0           0         0   \n",
       "4     45990         1         0           0           0         0   \n",
       "\n",
       "                                image_thumbnail_path  \n",
       "0  ..\\train_tiled_thumbnail_images\\45990_thumbnai...  \n",
       "1  ..\\train_tiled_thumbnail_images\\45990_thumbnai...  \n",
       "2  ..\\train_tiled_thumbnail_images\\45990_thumbnai...  \n",
       "3  ..\\train_tiled_thumbnail_images\\45990_thumbnai...  \n",
       "4  ..\\train_tiled_thumbnail_images\\45990_thumbnai...  "
      ]
     },
     "execution_count": 25,
     "metadata": {},
     "output_type": "execute_result"
    }
   ],
   "source": [
    "train_thumbnail_paths = \"\"\n",
    "train_df[\"image_thumbnail_path\"] = newDataFrame['image_path']\n",
    "train_df.head()"
   ]
  },
  {
   "cell_type": "code",
   "execution_count": 26,
   "metadata": {},
   "outputs": [],
   "source": [
    "image_thumbnail_paths = train_df[\"image_thumbnail_path\"].values\n",
    "labels = train_df[[col for col in train_df.columns if col.startswith(\"label_\")]].values"
   ]
  },
  {
   "cell_type": "code",
   "execution_count": 30,
   "metadata": {},
   "outputs": [
    {
     "name": "stdout",
     "output_type": "stream",
     "text": [
      "[[1 0 0 0 0]\n",
      " [1 0 0 0 0]\n",
      " [1 0 0 0 0]\n",
      " ...\n",
      " [0 0 1 0 0]\n",
      " [0 0 1 0 0]\n",
      " [0 0 1 0 0]]\n"
     ]
    }
   ],
   "source": [
    "print(labels)"
   ]
  },
  {
   "cell_type": "code",
   "execution_count": 33,
   "metadata": {},
   "outputs": [
    {
     "data": {
      "text/plain": [
       "(34283, 5)"
      ]
     },
     "execution_count": 33,
     "metadata": {},
     "output_type": "execute_result"
    }
   ],
   "source": [
    "labels.shape"
   ]
  },
  {
   "cell_type": "code",
   "execution_count": 27,
   "metadata": {},
   "outputs": [],
   "source": [
    "label_names = [col for col in train_df.columns if col.startswith(\"label_\")]\n",
    "name_to_id = {key.replace(\"label_\", \"\"):value for value,key in enumerate(label_names)}\n",
    "id_to_name = {key:value for value, key in name_to_id.items()}"
   ]
  },
  {
   "cell_type": "code",
   "execution_count": 28,
   "metadata": {},
   "outputs": [],
   "source": [
    "import pickle\n",
    "with open(\"id_to_name.pkl\", \"wb\") as f:\n",
    "    pickle.dump(id_to_name, f)"
   ]
  },
  {
   "cell_type": "code",
   "execution_count": 34,
   "metadata": {},
   "outputs": [],
   "source": [
    "# Creating the Input Data Pipeline\n",
    "def read_image(path):\n",
    "    file = tf.io.read_file(path)\n",
    "    image = tf.io.decode_png(file, 3)\n",
    "    image = tf.image.resize(image, (256, 256))\n",
    "    image = tf.image.per_image_standardization(image)\n",
    "    return image"
   ]
  },
  {
   "cell_type": "code",
   "execution_count": 36,
   "metadata": {},
   "outputs": [],
   "source": [
    "batch_size = 8\n",
    "\n",
    "\n",
    "x = (\n",
    "        tf.data.Dataset.from_tensor_slices(image_thumbnail_paths)\n",
    "        .map(read_image, num_parallel_calls=tf.data.AUTOTUNE)\n",
    "    )\n",
    "y = tf.data.Dataset.from_tensor_slices(labels)\n",
    "\n",
    "# Zip the x and y together\n",
    "ds = tf.data.Dataset.zip((x, y))\n",
    "\n",
    "# Create the training and validation splits\n",
    "val_ds = (\n",
    "    ds\n",
    "    .take(5000)\n",
    "    .batch(batch_size)\n",
    "    .prefetch(tf.data.AUTOTUNE)\n",
    ")\n",
    "train_ds = (\n",
    "    ds\n",
    "    .skip(50)\n",
    "    .shuffle(batch_size * 10)\n",
    "    .batch(batch_size)\n",
    "    .prefetch(tf.data.AUTOTUNE)\n",
    ")"
   ]
  },
  {
   "cell_type": "code",
   "execution_count": 43,
   "metadata": {},
   "outputs": [
    {
     "name": "stdout",
     "output_type": "stream",
     "text": [
      "(256, 256, 3)\n"
     ]
    }
   ],
   "source": [
    "for x, y in train_ds:\n",
    "    print(x[0].shape)\n",
    "    break"
   ]
  },
  {
   "cell_type": "code",
   "execution_count": 46,
   "metadata": {},
   "outputs": [
    {
     "name": "stdout",
     "output_type": "stream",
     "text": [
      "Model: \"model_2\"\n",
      "_________________________________________________________________\n",
      " Layer (type)                Output Shape              Param #   \n",
      "=================================================================\n",
      " input_3 (InputLayer)        [(None, 256, 256, 3)]     0         \n",
      "                                                                 \n",
      " inception_v3 (Functional)   (None, 6, 6, 2048)        21802784  \n",
      "                                                                 \n",
      " global_average_pooling2d_2   (None, 2048)             0         \n",
      " (GlobalAveragePooling2D)                                        \n",
      "                                                                 \n",
      " batch_normalization_284 (Ba  (None, 2048)             8192      \n",
      " tchNormalization)                                               \n",
      "                                                                 \n",
      " dropout_4 (Dropout)         (None, 2048)              0         \n",
      "                                                                 \n",
      " dense_6 (Dense)             (None, 512)               1049088   \n",
      "                                                                 \n",
      " dropout_5 (Dropout)         (None, 512)               0         \n",
      "                                                                 \n",
      " dense_7 (Dense)             (None, 256)               131328    \n",
      "                                                                 \n",
      " dense_8 (Dense)             (None, 5)                 1285      \n",
      "                                                                 \n",
      "=================================================================\n",
      "Total params: 22,992,677\n",
      "Trainable params: 1,185,797\n",
      "Non-trainable params: 21,806,880\n",
      "_________________________________________________________________\n"
     ]
    }
   ],
   "source": [
    "IMAGE_WIDTH = 256\n",
    "IMAGE_HEIGHT = 256\n",
    "def transfer_learning():\n",
    "    # Load the image and text backbones with presets\n",
    "    backbone = tf.keras.applications.inception_v3.InceptionV3(include_top=False, weights='imagenet', input_shape=(IMAGE_WIDTH, IMAGE_HEIGHT, 3))\n",
    "    backbone.trainable = False\n",
    "\n",
    "    image_inputs = backbone.input\n",
    "    image_embeddings = backbone(image_inputs)\n",
    "    image_embeddings = tf.keras.layers.GlobalAveragePooling2D()(image_embeddings)\n",
    "    x = tf.keras.layers.BatchNormalization(epsilon=1e-05, momentum=0.1)(image_embeddings)\n",
    "    x = tf.keras.layers.Dropout(0.1)(x)\n",
    "    x = tf.keras.layers.Dense(units=512, activation=\"relu\")(x)\n",
    "    x = tf.keras.layers.Dropout(0.1)(x)\n",
    "    x = tf.keras.layers.Dense(units=256, activation=\"relu\")(x)\n",
    "    outputs = tf.keras.layers.Dense(5, activation=\"softmax\")(x)\n",
    "\n",
    "    # Build the model with the Functional API\n",
    "    model = tf.keras.Model(\n",
    "        inputs=image_inputs,\n",
    "        outputs=outputs,\n",
    "    )\n",
    "    return model\n",
    "\n",
    "model = transfer_learning()\n",
    "model.summary()"
   ]
  },
  {
   "cell_type": "code",
   "execution_count": 50,
   "metadata": {},
   "outputs": [
    {
     "name": "stdout",
     "output_type": "stream",
     "text": [
      "Epoch 1/5\n",
      "4280/4280 [==============================] - 651s 150ms/step - loss: 1.2601 - accuracy: 0.5406 - val_loss: 3.3385 - val_accuracy: 0.3044\n",
      "Epoch 2/5\n",
      "4280/4280 [==============================] - 888s 207ms/step - loss: 1.2709 - accuracy: 0.5262 - val_loss: 5.5982 - val_accuracy: 0.2970\n",
      "Epoch 3/5\n",
      "4280/4280 [==============================] - 947s 221ms/step - loss: 1.2762 - accuracy: 0.5129 - val_loss: 3.9007 - val_accuracy: 0.3384\n",
      "Epoch 4/5\n",
      "4280/4280 [==============================] - 939s 219ms/step - loss: 1.2378 - accuracy: 0.5210 - val_loss: 5.2815 - val_accuracy: 0.3784\n",
      "Epoch 5/5\n",
      "4280/4280 [==============================] - 947s 221ms/step - loss: 1.2225 - accuracy: 0.5218 - val_loss: 6.7156 - val_accuracy: 0.3916\n"
     ]
    }
   ],
   "source": [
    " model.compile(\n",
    "        optimizer=tf.keras.optimizers.Adam(learning_rate=1e-3),\n",
    "        loss=tf.keras.losses.CategoricalCrossentropy(),\n",
    "        metrics=[\"accuracy\"],\n",
    "    )\n",
    "\n",
    "history = model.fit(\n",
    "    train_ds,\n",
    "    epochs=5,\n",
    "    validation_data=val_ds\n",
    ")"
   ]
  },
  {
   "cell_type": "code",
   "execution_count": 51,
   "metadata": {},
   "outputs": [
    {
     "ename": "AttributeError",
     "evalue": "module 'keras.api._v2.keras' has no attribute 'saving'",
     "output_type": "error",
     "traceback": [
      "\u001b[1;31m---------------------------------------------------------------------------\u001b[0m",
      "\u001b[1;31mAttributeError\u001b[0m                            Traceback (most recent call last)",
      "Cell \u001b[1;32mIn[51], line 1\u001b[0m\n\u001b[1;32m----> 1\u001b[0m \u001b[43mtf\u001b[49m\u001b[38;5;241;43m.\u001b[39;49m\u001b[43mkeras\u001b[49m\u001b[38;5;241;43m.\u001b[39;49m\u001b[43msaving\u001b[49m\u001b[38;5;241m.\u001b[39msave_model(\n\u001b[0;32m      2\u001b[0m     model, \u001b[38;5;124m\"\u001b[39m\u001b[38;5;124mmodel_inception_v3_28_01_2023.hdf5\u001b[39m\u001b[38;5;124m\"\u001b[39m, overwrite\u001b[38;5;241m=\u001b[39m\u001b[38;5;28;01mTrue\u001b[39;00m)\n",
      "\u001b[1;31mAttributeError\u001b[0m: module 'keras.api._v2.keras' has no attribute 'saving'"
     ]
    }
   ],
   "source": [
    "tf.keras.models.save_model(\n",
    "    model, \"model_inception_v3_28_01_2023.hdf5\", overwrite=True)"
   ]
  },
  {
   "cell_type": "code",
   "execution_count": 8,
   "metadata": {},
   "outputs": [],
   "source": [
    "# This is the inference part\n",
    "# load the model if not loaded\n",
    "model = tf.keras.models.load_model(\"model_inception_v3_28_01_2023.hdf5\")"
   ]
  },
  {
   "cell_type": "code",
   "execution_count": 9,
   "metadata": {},
   "outputs": [
    {
     "name": "stdout",
     "output_type": "stream",
     "text": [
      "Model: \"model_2\"\n",
      "_________________________________________________________________\n",
      " Layer (type)                Output Shape              Param #   \n",
      "=================================================================\n",
      " input_3 (InputLayer)        [(None, 256, 256, 3)]     0         \n",
      "                                                                 \n",
      " inception_v3 (Functional)   (None, 6, 6, 2048)        21802784  \n",
      "                                                                 \n",
      " global_average_pooling2d_2   (None, 2048)             0         \n",
      " (GlobalAveragePooling2D)                                        \n",
      "                                                                 \n",
      " batch_normalization_284 (Ba  (None, 2048)             8192      \n",
      " tchNormalization)                                               \n",
      "                                                                 \n",
      " dropout_4 (Dropout)         (None, 2048)              0         \n",
      "                                                                 \n",
      " dense_6 (Dense)             (None, 512)               1049088   \n",
      "                                                                 \n",
      " dropout_5 (Dropout)         (None, 512)               0         \n",
      "                                                                 \n",
      " dense_7 (Dense)             (None, 256)               131328    \n",
      "                                                                 \n",
      " dense_8 (Dense)             (None, 5)                 1285      \n",
      "                                                                 \n",
      "=================================================================\n",
      "Total params: 22,992,677\n",
      "Trainable params: 1,185,797\n",
      "Non-trainable params: 21,806,880\n",
      "_________________________________________________________________\n"
     ]
    }
   ],
   "source": [
    "model.summary()"
   ]
  },
  {
   "cell_type": "code",
   "execution_count": 10,
   "metadata": {},
   "outputs": [
    {
     "data": {
      "text/html": [
       "<div>\n",
       "<style scoped>\n",
       "    .dataframe tbody tr th:only-of-type {\n",
       "        vertical-align: middle;\n",
       "    }\n",
       "\n",
       "    .dataframe tbody tr th {\n",
       "        vertical-align: top;\n",
       "    }\n",
       "\n",
       "    .dataframe thead th {\n",
       "        text-align: right;\n",
       "    }\n",
       "</style>\n",
       "<table border=\"1\" class=\"dataframe\">\n",
       "  <thead>\n",
       "    <tr style=\"text-align: right;\">\n",
       "      <th></th>\n",
       "      <th>image_id</th>\n",
       "      <th>label</th>\n",
       "      <th>image_width</th>\n",
       "      <th>image_height</th>\n",
       "      <th>is_tma</th>\n",
       "      <th>image_path</th>\n",
       "    </tr>\n",
       "  </thead>\n",
       "  <tbody>\n",
       "    <tr>\n",
       "      <th>485</th>\n",
       "      <td>57711</td>\n",
       "      <td>EC</td>\n",
       "      <td>60530</td>\n",
       "      <td>34049</td>\n",
       "      <td>False</td>\n",
       "      <td>..\\train_thumbnails\\57711_thumbnail.png</td>\n",
       "    </tr>\n",
       "    <tr>\n",
       "      <th>73</th>\n",
       "      <td>8213</td>\n",
       "      <td>HGSC</td>\n",
       "      <td>36683</td>\n",
       "      <td>25710</td>\n",
       "      <td>False</td>\n",
       "      <td>..\\train_thumbnails\\8213_thumbnail.png</td>\n",
       "    </tr>\n",
       "    <tr>\n",
       "      <th>348</th>\n",
       "      <td>40503</td>\n",
       "      <td>EC</td>\n",
       "      <td>61440</td>\n",
       "      <td>26709</td>\n",
       "      <td>False</td>\n",
       "      <td>..\\train_thumbnails\\40503_thumbnail.png</td>\n",
       "    </tr>\n",
       "    <tr>\n",
       "      <th>86</th>\n",
       "      <td>9509</td>\n",
       "      <td>HGSC</td>\n",
       "      <td>21288</td>\n",
       "      <td>20626</td>\n",
       "      <td>False</td>\n",
       "      <td>..\\train_thumbnails\\9509_thumbnail.png</td>\n",
       "    </tr>\n",
       "    <tr>\n",
       "      <th>456</th>\n",
       "      <td>54007</td>\n",
       "      <td>HGSC</td>\n",
       "      <td>21462</td>\n",
       "      <td>21749</td>\n",
       "      <td>False</td>\n",
       "      <td>..\\train_thumbnails\\54007_thumbnail.png</td>\n",
       "    </tr>\n",
       "  </tbody>\n",
       "</table>\n",
       "</div>"
      ],
      "text/plain": [
       "     image_id label  image_width  image_height  is_tma  \\\n",
       "485     57711    EC        60530         34049   False   \n",
       "73       8213  HGSC        36683         25710   False   \n",
       "348     40503    EC        61440         26709   False   \n",
       "86       9509  HGSC        21288         20626   False   \n",
       "456     54007  HGSC        21462         21749   False   \n",
       "\n",
       "                                  image_path  \n",
       "485  ..\\train_thumbnails\\57711_thumbnail.png  \n",
       "73    ..\\train_thumbnails\\8213_thumbnail.png  \n",
       "348  ..\\train_thumbnails\\40503_thumbnail.png  \n",
       "86    ..\\train_thumbnails\\9509_thumbnail.png  \n",
       "456  ..\\train_thumbnails\\54007_thumbnail.png  "
      ]
     },
     "execution_count": 10,
     "metadata": {},
     "output_type": "execute_result"
    }
   ],
   "source": [
    "validDf.head()"
   ]
  },
  {
   "cell_type": "code",
   "execution_count": 11,
   "metadata": {},
   "outputs": [
    {
     "name": "stdout",
     "output_type": "stream",
     "text": [
      "Length of valid df :  108\n"
     ]
    }
   ],
   "source": [
    "print(\"Length of valid df : \", len(validDf))"
   ]
  },
  {
   "cell_type": "code",
   "execution_count": null,
   "metadata": {},
   "outputs": [],
   "source": [
    "# Function to check if the Tile is not completely black\n",
    "def is_completely_black(image):\n",
    "    if image is None:\n",
    "        return False  # Unable to read image\n",
    "\n",
    "    # Convert the image to grayscale\n",
    "    gray_image = cv2.cvtColor(image, cv2.COLOR_BGR2GRAY)\n",
    "\n",
    "    # Check if all pixel values are zero (black)\n",
    "    return not cv2.countNonZero(gray_image)\n",
    "\n",
    "# Function to create the Tiles\n",
    "def create_image_tiles(input_path, output_folder, tile_size=(256, 256), overlap=0):\n",
    "    \"\"\"\n",
    "    Create image tiles from large images.\n",
    "\n",
    "    Parameters:\n",
    "    - input_path: Path to the directory containing large images.\n",
    "    - output_path: Path to the directory where tiles will be saved.\n",
    "    - tile_size: Tuple representing the size of each tile (height, width).\n",
    "    - overlap: Number of pixels for tile overlap. Use 0 for no overlap.\n",
    "\n",
    "    Note: This example assumes that input images are in a single directory.\n",
    "    \"\"\"\n",
    "    tiles_list = [] \n",
    "    img_path = os.path.join(input_path)#, filename) # for inpur path we have the whole image path\n",
    "    img = cv2.imread(input_path)\n",
    "\n",
    "    # Get image dimensions\n",
    "    height, width, _ = img.shape\n",
    "\n",
    "    # Calculate the number of tiles in each dimension\n",
    "    num_tiles_height = int(np.ceil(height / (tile_size[0] - overlap)))\n",
    "    num_tiles_width = int(np.ceil(width / (tile_size[1] - overlap)))\n",
    "\n",
    "    # Iterate through each tile position\n",
    "    for i in range(num_tiles_height):\n",
    "        for j in range(num_tiles_width):\n",
    "            # Calculate tile coordinates\n",
    "            start_y = i * (tile_size[0] - overlap)\n",
    "            end_y = min(start_y + tile_size[0], height)\n",
    "\n",
    "            start_x = j * (tile_size[1] - overlap)\n",
    "            end_x = min(start_x + tile_size[1], width)\n",
    "\n",
    "            # Extract the tile from the image\n",
    "            tile = img[start_y:end_y, start_x:end_x]\n",
    "\n",
    "            # Save the tile if the size is (256, 256)\n",
    "            if tile.shape == tile_size:\n",
    "                # Save the tile if it's not completely black\n",
    "                if is_completely_black(tile) == False:\n",
    "                    tiles_list.append(tile)\n",
    "\n",
    "\n",
    "    return tiles_list"
   ]
  },
  {
   "cell_type": "code",
   "execution_count": 12,
   "metadata": {},
   "outputs": [],
   "source": [
    "predictionDataFrame = pd.DataFrame(columns = ['image_id', 'original_lable', 'predicted_label'])"
   ]
  },
  {
   "cell_type": "code",
   "execution_count": 15,
   "metadata": {},
   "outputs": [
    {
     "name": "stderr",
     "output_type": "stream",
     "text": [
      "100%|█████████████████████████████████████████████████████████████████████████████████████████| 108/108 [00:00<00:00, 109841.13it/s]"
     ]
    },
    {
     "name": "stdout",
     "output_type": "stream",
     "text": [
      "0\n",
      "1\n",
      "2\n",
      "3\n",
      "4\n",
      "5\n",
      "6\n",
      "7\n",
      "8\n",
      "9\n",
      "10\n",
      "11\n",
      "12\n",
      "13\n",
      "14\n",
      "15\n",
      "16\n",
      "17\n",
      "18\n",
      "19\n",
      "20\n",
      "21\n",
      "22\n",
      "23\n",
      "24\n",
      "25\n",
      "26\n",
      "27\n",
      "28\n",
      "29\n",
      "30\n",
      "31\n",
      "32\n",
      "33\n",
      "34\n",
      "35\n",
      "36\n",
      "37\n",
      "38\n",
      "39\n",
      "40\n",
      "41\n",
      "42\n",
      "43\n",
      "44\n",
      "45\n",
      "46\n",
      "47\n",
      "48\n",
      "49\n",
      "50\n",
      "51\n",
      "52\n",
      "53\n",
      "54\n",
      "55\n",
      "56\n",
      "57\n",
      "58\n",
      "59\n",
      "60\n",
      "61\n",
      "62\n",
      "63\n",
      "64\n",
      "65\n",
      "66\n",
      "67\n",
      "68\n",
      "69\n",
      "70\n",
      "71\n",
      "72\n",
      "73\n",
      "74\n",
      "75\n",
      "76\n",
      "77\n",
      "78\n",
      "79\n",
      "80\n",
      "81\n",
      "82\n",
      "83\n",
      "84\n",
      "85\n",
      "86\n",
      "87\n",
      "88\n",
      "89\n",
      "90\n",
      "91\n",
      "92\n",
      "93\n",
      "94\n",
      "95\n",
      "96\n",
      "97\n",
      "98\n",
      "99\n",
      "100\n",
      "101\n",
      "102\n",
      "103\n",
      "104\n",
      "105\n",
      "106\n",
      "107\n"
     ]
    },
    {
     "name": "stderr",
     "output_type": "stream",
     "text": [
      "\n"
     ]
    }
   ],
   "source": [
    "for i in tqdm.tqdm(range(len(validDf))):\n",
    "    image_path = validDf['image_path'].iloc[i]\n",
    "    "
   ]
  }
 ],
 "metadata": {
  "kernelspec": {
   "display_name": "Python 3 (ipykernel)",
   "language": "python",
   "name": "python3"
  },
  "language_info": {
   "codemirror_mode": {
    "name": "ipython",
    "version": 3
   },
   "file_extension": ".py",
   "mimetype": "text/x-python",
   "name": "python",
   "nbconvert_exporter": "python",
   "pygments_lexer": "ipython3",
   "version": "3.10.11"
  }
 },
 "nbformat": 4,
 "nbformat_minor": 4
}
